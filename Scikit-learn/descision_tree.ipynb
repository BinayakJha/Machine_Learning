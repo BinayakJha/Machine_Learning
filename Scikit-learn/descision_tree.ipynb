{
 "cells": [
  {
   "cell_type": "markdown",
   "metadata": {},
   "source": [
    "<center><img src=\"../descision_tree.png\"></center>"
   ]
  },
  {
   "cell_type": "code",
   "execution_count": 5,
   "metadata": {},
   "outputs": [],
   "source": [
    "import numpy as np\n",
    "data = np.array([[5.1, 3.5, 1.4, 0.2],\n",
    "                 [4.9, 3.0, 1.4, 0.2],\n",
    "                 [4.7, 3.2, 1.3, 0.2],\n",
    "                 [4.6, 3.1, 1.5, 0.2],\n",
    "                 [5.0, 3.6, 1.4, 0.2],\n",
    "                 [5.4, 3.9, 1.7, 0.4],\n",
    "                 [4.6, 3.4, 1.4, 0.3],\n",
    "                 [5.0, 3.4, 1.5, 0.2]])\n",
    "       \n",
    "labels = np.array([0, 0, 0, 0, 0, 1, 1, 1])"
   ]
  },
  {
   "cell_type": "code",
   "execution_count": 7,
   "metadata": {},
   "outputs": [
    {
     "name": "stdout",
     "output_type": "stream",
     "text": [
      "Data shape: (8, 4)\n",
      "\n",
      "Labels:\n",
      "array([0, 0, 0, 0, 0, 1, 1, 1])\n",
      "\n"
     ]
    },
    {
     "data": {
      "text/plain": [
       "DecisionTreeClassifier()"
      ]
     },
     "execution_count": 7,
     "metadata": {},
     "output_type": "execute_result"
    }
   ],
   "source": [
    "from sklearn import tree\n",
    "clf_tree1 = tree.DecisionTreeClassifier()\n",
    "reg_tree1 = tree.DecisionTreeRegressor()\n",
    "clf_tree2 = tree.DecisionTreeClassifier(\n",
    "  max_depth=8)  # max depth of 8\n",
    "reg_tree2 = tree.DecisionTreeRegressor(\n",
    "  max_depth=5)  # max depth of 5\n",
    "\n",
    "# predefined dataset\n",
    "print(f'Data shape: {data.shape}\\n')\n",
    "# Binary labels\n",
    "print(f'Labels:\\n{repr(labels)}\\n')\n",
    "clf_tree1.fit(data, labels)"
   ]
  },
  {
   "cell_type": "code",
   "execution_count": null,
   "metadata": {},
   "outputs": [],
   "source": []
  }
 ],
 "metadata": {
  "kernelspec": {
   "display_name": "Python 3.10.0 64-bit",
   "language": "python",
   "name": "python3"
  },
  "language_info": {
   "codemirror_mode": {
    "name": "ipython",
    "version": 3
   },
   "file_extension": ".py",
   "mimetype": "text/x-python",
   "name": "python",
   "nbconvert_exporter": "python",
   "pygments_lexer": "ipython3",
   "version": "3.10.0"
  },
  "orig_nbformat": 4,
  "vscode": {
   "interpreter": {
    "hash": "aee8b7b246df8f9039afb4144a1f6fd8d2ca17a180786b69acc140d282b71a49"
   }
  }
 },
 "nbformat": 4,
 "nbformat_minor": 2
}

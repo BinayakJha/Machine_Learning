{
 "cells": [
  {
   "cell_type": "code",
   "execution_count": 1,
   "metadata": {},
   "outputs": [],
   "source": [
    "import numpy as np\n",
    "\n",
    "pizza_data = np.array([[100, 800], [2500, 8500], [1800, 760], [2000, 800], [2300, 810]])\n",
    "pizza_prices = np.array([10.99, 12.5 ,  9.99, 10.99, 11.99])"
   ]
  },
  {
   "cell_type": "code",
   "execution_count": 2,
   "metadata": {},
   "outputs": [
    {
     "name": "stdout",
     "output_type": "stream",
     "text": [
      "[10.76548817]\n"
     ]
    }
   ],
   "source": [
    "from sklearn import linear_model\n",
    "reg  = linear_model.LinearRegression()\n",
    "reg.fit(pizza_data, pizza_prices)\n",
    "# prediction\n",
    "print(reg.predict([[200, 820]]))"
   ]
  },
  {
   "cell_type": "code",
   "execution_count": 3,
   "metadata": {},
   "outputs": [
    {
     "name": "stdout",
     "output_type": "stream",
     "text": [
      "array([10.76548817, 11.10462718]) \n",
      " \n",
      "Coefficients: array([0.00016869, 0.00017618]) \n",
      "\n",
      "Intercept: 10.58728564354624 \n",
      "\n",
      "R2: 0.5039278740674161\n",
      "\n"
     ]
    }
   ],
   "source": [
    "# new pizza data \n",
    "new_pizzas = np.array([[200,820],[2200, 830]])\n",
    "\n",
    "price_predicts = reg.predict(new_pizzas)\n",
    "print(f\"{repr(price_predicts)} \\n \")\n",
    "\n",
    "print(f\"Coefficients: {repr(reg.coef_)} \\n\")\n",
    "print(f\"Intercept: {repr(reg.intercept_)} \\n\")\n",
    "\n",
    "# Using previously defined pizza_data, pizza_prices\n",
    "r2 = reg.score(pizza_data, pizza_prices)\n",
    "print(f'R2: {r2}\\n')"
   ]
  },
  {
   "cell_type": "code",
   "execution_count": 9,
   "metadata": {},
   "outputs": [
    {
     "name": "stdout",
     "output_type": "stream",
     "text": [
      "Coefficients: array([0.00016868, 0.00017618]) \n",
      "\n",
      "Intercept: 10.58729379314313 \n",
      "\n",
      "R2: 0.5039278740464321\n",
      "\n"
     ]
    }
   ],
   "source": [
    "reg = linear_model.Ridge(alpha=0.1)\n",
    "reg.fit(pizza_data, pizza_prices)\n",
    "print(f\"Coefficients: {repr(reg.coef_)} \\n\")\n",
    "print(f\"Intercept: {repr(reg.intercept_)} \\n\")\n",
    "r2 = reg.score(pizza_data, pizza_prices)\n",
    "print(f'R2: {r2}\\n')"
   ]
  },
  {
   "cell_type": "code",
   "execution_count": 14,
   "metadata": {},
   "outputs": [
    {
     "name": "stdout",
     "output_type": "stream",
     "text": [
      "Coefficients: array([0.00016869, 0.00017618])\n",
      "\n",
      "Intercept: 10.587285662743767\n",
      "\n",
      "Chosen alpha: 0.3\n",
      "\n",
      "R2: 0.5039278740674156\n",
      "\n"
     ]
    }
   ],
   "source": [
    "from sklearn import linear_model\n",
    "alphas = [0.1, 0.2, 0.3]\n",
    "reg = linear_model.RidgeCV(alphas=alphas)\n",
    "reg.fit(pizza_data, pizza_prices)\n",
    "print('Coefficients: {}\\n'.format(repr(reg.coef_)))\n",
    "print('Intercept: {}\\n'.format(reg.intercept_))\n",
    "print('Chosen alpha: {}\\n'.format(reg.alpha_))\n",
    "r2 = reg.score(pizza_data, pizza_prices)\n",
    "print('R2: {}\\n'.format(r2))"
   ]
  },
  {
   "cell_type": "code",
   "execution_count": 16,
   "metadata": {},
   "outputs": [
    {
     "name": "stdout",
     "output_type": "stream",
     "text": [
      "Data shape: (150, 4)\n",
      "\n",
      "Labels shape: (150,)\n",
      "\n",
      "Coefficients: array([ 0.        , -0.        ,  0.40811896,  0.        ])\n",
      "\n",
      "Intercept: -0.5337110569441172\n",
      "\n",
      "R2: 0.895821120274704\n",
      "\n"
     ]
    }
   ],
   "source": [
    "data = np.array([[5.1, 3.5, 1.4, 0.2],\n",
    "       [4.9, 3. , 1.4, 0.2],\n",
    "       [4.7, 3.2, 1.3, 0.2],\n",
    "       [4.6, 3.1, 1.5, 0.2],\n",
    "       [5. , 3.6, 1.4, 0.2],\n",
    "       [5.4, 3.9, 1.7, 0.4],\n",
    "       [4.6, 3.4, 1.4, 0.3],\n",
    "       [5. , 3.4, 1.5, 0.2],\n",
    "       [4.4, 2.9, 1.4, 0.2],\n",
    "       [4.9, 3.1, 1.5, 0.1],\n",
    "       [5.4, 3.7, 1.5, 0.2],\n",
    "       [4.8, 3.4, 1.6, 0.2],\n",
    "       [4.8, 3. , 1.4, 0.1],\n",
    "       [4.3, 3. , 1.1, 0.1],\n",
    "       [5.8, 4. , 1.2, 0.2],\n",
    "       [5.7, 4.4, 1.5, 0.4],\n",
    "       [5.4, 3.9, 1.3, 0.4],\n",
    "       [5.1, 3.5, 1.4, 0.3],\n",
    "       [5.7, 3.8, 1.7, 0.3],\n",
    "       [5.1, 3.8, 1.5, 0.3],\n",
    "       [5.4, 3.4, 1.7, 0.2],\n",
    "       [5.1, 3.7, 1.5, 0.4],\n",
    "       [4.6, 3.6, 1. , 0.2],\n",
    "       [5.1, 3.3, 1.7, 0.5],\n",
    "       [4.8, 3.4, 1.9, 0.2],\n",
    "       [5. , 3. , 1.6, 0.2],\n",
    "       [5. , 3.4, 1.6, 0.4],\n",
    "       [5.2, 3.5, 1.5, 0.2],\n",
    "       [5.2, 3.4, 1.4, 0.2],\n",
    "       [4.7, 3.2, 1.6, 0.2],\n",
    "       [4.8, 3.1, 1.6, 0.2],\n",
    "       [5.4, 3.4, 1.5, 0.4],\n",
    "       [5.2, 4.1, 1.5, 0.1],\n",
    "       [5.5, 4.2, 1.4, 0.2],\n",
    "       [4.9, 3.1, 1.5, 0.2],\n",
    "       [5. , 3.2, 1.2, 0.2],\n",
    "       [5.5, 3.5, 1.3, 0.2],\n",
    "       [4.9, 3.6, 1.4, 0.1],\n",
    "       [4.4, 3. , 1.3, 0.2],\n",
    "       [5.1, 3.4, 1.5, 0.2],\n",
    "       [5. , 3.5, 1.3, 0.3],\n",
    "       [4.5, 2.3, 1.3, 0.3],\n",
    "       [4.4, 3.2, 1.3, 0.2],\n",
    "       [5. , 3.5, 1.6, 0.6],\n",
    "       [5.1, 3.8, 1.9, 0.4],\n",
    "       [4.8, 3. , 1.4, 0.3],\n",
    "       [5.1, 3.8, 1.6, 0.2],\n",
    "       [4.6, 3.2, 1.4, 0.2],\n",
    "       [5.3, 3.7, 1.5, 0.2],\n",
    "       [5. , 3.3, 1.4, 0.2],\n",
    "       [7. , 3.2, 4.7, 1.4],\n",
    "       [6.4, 3.2, 4.5, 1.5],\n",
    "       [6.9, 3.1, 4.9, 1.5],\n",
    "       [5.5, 2.3, 4. , 1.3],\n",
    "       [6.5, 2.8, 4.6, 1.5],\n",
    "       [5.7, 2.8, 4.5, 1.3],\n",
    "       [6.3, 3.3, 4.7, 1.6],\n",
    "       [4.9, 2.4, 3.3, 1. ],\n",
    "       [6.6, 2.9, 4.6, 1.3],\n",
    "       [5.2, 2.7, 3.9, 1.4],\n",
    "       [5. , 2. , 3.5, 1. ],\n",
    "       [5.9, 3. , 4.2, 1.5],\n",
    "       [6. , 2.2, 4. , 1. ],\n",
    "       [6.1, 2.9, 4.7, 1.4],\n",
    "       [5.6, 2.9, 3.6, 1.3],\n",
    "       [6.7, 3.1, 4.4, 1.4],\n",
    "       [5.6, 3. , 4.5, 1.5],\n",
    "       [5.8, 2.7, 4.1, 1. ],\n",
    "       [6.2, 2.2, 4.5, 1.5],\n",
    "       [5.6, 2.5, 3.9, 1.1],\n",
    "       [5.9, 3.2, 4.8, 1.8],\n",
    "       [6.1, 2.8, 4. , 1.3],\n",
    "       [6.3, 2.5, 4.9, 1.5],\n",
    "       [6.1, 2.8, 4.7, 1.2],\n",
    "       [6.4, 2.9, 4.3, 1.3],\n",
    "       [6.6, 3. , 4.4, 1.4],\n",
    "       [6.8, 2.8, 4.8, 1.4],\n",
    "       [6.7, 3. , 5. , 1.7],\n",
    "       [6. , 2.9, 4.5, 1.5],\n",
    "       [5.7, 2.6, 3.5, 1. ],\n",
    "       [5.5, 2.4, 3.8, 1.1],\n",
    "       [5.5, 2.4, 3.7, 1. ],\n",
    "       [5.8, 2.7, 3.9, 1.2],\n",
    "       [6. , 2.7, 5.1, 1.6],\n",
    "       [5.4, 3. , 4.5, 1.5],\n",
    "       [6. , 3.4, 4.5, 1.6],\n",
    "       [6.7, 3.1, 4.7, 1.5],\n",
    "       [6.3, 2.3, 4.4, 1.3],\n",
    "       [5.6, 3. , 4.1, 1.3],\n",
    "       [5.5, 2.5, 4. , 1.3],\n",
    "       [5.5, 2.6, 4.4, 1.2],\n",
    "       [6.1, 3. , 4.6, 1.4],\n",
    "       [5.8, 2.6, 4. , 1.2],\n",
    "       [5. , 2.3, 3.3, 1. ],\n",
    "       [5.6, 2.7, 4.2, 1.3],\n",
    "       [5.7, 3. , 4.2, 1.2],\n",
    "       [5.7, 2.9, 4.2, 1.3],\n",
    "       [6.2, 2.9, 4.3, 1.3],\n",
    "       [5.1, 2.5, 3. , 1.1],\n",
    "       [5.7, 2.8, 4.1, 1.3],\n",
    "       [6.3, 3.3, 6. , 2.5],\n",
    "       [5.8, 2.7, 5.1, 1.9],\n",
    "       [7.1, 3. , 5.9, 2.1],\n",
    "       [6.3, 2.9, 5.6, 1.8],\n",
    "       [6.5, 3. , 5.8, 2.2],\n",
    "       [7.6, 3. , 6.6, 2.1],\n",
    "       [4.9, 2.5, 4.5, 1.7],\n",
    "       [7.3, 2.9, 6.3, 1.8],\n",
    "       [6.7, 2.5, 5.8, 1.8],\n",
    "       [7.2, 3.6, 6.1, 2.5],\n",
    "       [6.5, 3.2, 5.1, 2. ],\n",
    "       [6.4, 2.7, 5.3, 1.9],\n",
    "       [6.8, 3. , 5.5, 2.1],\n",
    "       [5.7, 2.5, 5. , 2. ],\n",
    "       [5.8, 2.8, 5.1, 2.4],\n",
    "       [6.4, 3.2, 5.3, 2.3],\n",
    "       [6.5, 3. , 5.5, 1.8],\n",
    "       [7.7, 3.8, 6.7, 2.2],\n",
    "       [7.7, 2.6, 6.9, 2.3],\n",
    "       [6. , 2.2, 5. , 1.5],\n",
    "       [6.9, 3.2, 5.7, 2.3],\n",
    "       [5.6, 2.8, 4.9, 2. ],\n",
    "       [7.7, 2.8, 6.7, 2. ],\n",
    "       [6.3, 2.7, 4.9, 1.8],\n",
    "       [6.7, 3.3, 5.7, 2.1],\n",
    "       [7.2, 3.2, 6. , 1.8],\n",
    "       [6.2, 2.8, 4.8, 1.8],\n",
    "       [6.1, 3. , 4.9, 1.8],\n",
    "       [6.4, 2.8, 5.6, 2.1],\n",
    "       [7.2, 3. , 5.8, 1.6],\n",
    "       [7.4, 2.8, 6.1, 1.9],\n",
    "       [7.9, 3.8, 6.4, 2. ],\n",
    "       [6.4, 2.8, 5.6, 2.2],\n",
    "       [6.3, 2.8, 5.1, 1.5],\n",
    "       [6.1, 2.6, 5.6, 1.4],\n",
    "       [7.7, 3. , 6.1, 2.3],\n",
    "       [6.3, 3.4, 5.6, 2.4],\n",
    "       [6.4, 3.1, 5.5, 1.8],\n",
    "       [6. , 3. , 4.8, 1.8],\n",
    "       [6.9, 3.1, 5.4, 2.1],\n",
    "       [6.7, 3.1, 5.6, 2.4],\n",
    "       [6.9, 3.1, 5.1, 2.3],\n",
    "       [5.8, 2.7, 5.1, 1.9],\n",
    "       [6.8, 3.2, 5.9, 2.3],\n",
    "       [6.7, 3.3, 5.7, 2.5],\n",
    "       [6.7, 3. , 5.2, 2.3],\n",
    "       [6.3, 2.5, 5. , 1.9],\n",
    "       [6.5, 3. , 5.2, 2. ],\n",
    "       [6.2, 3.4, 5.4, 2.3],\n",
    "       [5.9, 3. , 5.1, 1.8]])\n",
    "print('Data shape: {}\\n'.format(data.shape))\n",
    "labels = np.array([0, 0, 0, 0, 0, 0, 0, 0, 0, 0, 0, 0, 0, 0, 0, 0, 0, 0, 0, 0, 0, 0,\n",
    "       0, 0, 0, 0, 0, 0, 0, 0, 0, 0, 0, 0, 0, 0, 0, 0, 0, 0, 0, 0, 0, 0,\n",
    "       0, 0, 0, 0, 0, 0, 1, 1, 1, 1, 1, 1, 1, 1, 1, 1, 1, 1, 1, 1, 1, 1,\n",
    "       1, 1, 1, 1, 1, 1, 1, 1, 1, 1, 1, 1, 1, 1, 1, 1, 1, 1, 1, 1, 1, 1,\n",
    "       1, 1, 1, 1, 1, 1, 1, 1, 1, 1, 1, 1, 2, 2, 2, 2, 2, 2, 2, 2, 2, 2,\n",
    "       2, 2, 2, 2, 2, 2, 2, 2, 2, 2, 2, 2, 2, 2, 2, 2, 2, 2, 2, 2, 2, 2,\n",
    "       2, 2, 2, 2, 2, 2, 2, 2, 2, 2, 2, 2, 2, 2, 2, 2, 2, 2])\n",
    "print('Labels shape: {}\\n'.format(labels.shape))\n",
    "\n",
    "reg = linear_model.Lasso(alpha=0.1)\n",
    "reg.fit(data, labels)\n",
    "print('Coefficients: {}\\n'.format(repr(reg.coef_)))\n",
    "print('Intercept: {}\\n'.format(reg.intercept_))\n",
    "print('R2: {}\\n'.format(reg.score(data, labels)))"
   ]
  },
  {
   "cell_type": "code",
   "execution_count": null,
   "metadata": {},
   "outputs": [],
   "source": []
  },
  {
   "cell_type": "code",
   "execution_count": 40,
   "metadata": {},
   "outputs": [
    {
     "name": "stdout",
     "output_type": "stream",
     "text": [
      "Coefficients: array([-0.11362625, -0.03526763,  0.24468776,  0.57300547])\n",
      "\n",
      "Intercept: 0.1650198037405779\n",
      "\n",
      "R2: 0.9303174820768508\n",
      "\n",
      "Alpha: 20.975705701144637\n",
      "\n",
      "Lambda: 9.53356207176303\n",
      "\n"
     ]
    }
   ],
   "source": [
    "reg = linear_model.BayesianRidge()\n",
    "reg.fit(data, labels)\n",
    "print('Coefficients: {}\\n'.format(repr(reg.coef_)))\n",
    "print('Intercept: {}\\n'.format(reg.intercept_))\n",
    "print('R2: {}\\n'.format(reg.score(data, labels)))\n",
    "print('Alpha: {}\\n'.format(reg.alpha_))\n",
    "print('Lambda: {}\\n'.format(reg.lambda_))"
   ]
  },
  {
   "cell_type": "code",
   "execution_count": null,
   "metadata": {},
   "outputs": [],
   "source": []
  }
 ],
 "metadata": {
  "kernelspec": {
   "display_name": "Python 3.10.0 64-bit",
   "language": "python",
   "name": "python3"
  },
  "language_info": {
   "codemirror_mode": {
    "name": "ipython",
    "version": 3
   },
   "file_extension": ".py",
   "mimetype": "text/x-python",
   "name": "python",
   "nbconvert_exporter": "python",
   "pygments_lexer": "ipython3",
   "version": "3.10.0"
  },
  "orig_nbformat": 4,
  "vscode": {
   "interpreter": {
    "hash": "aee8b7b246df8f9039afb4144a1f6fd8d2ca17a180786b69acc140d282b71a49"
   }
  }
 },
 "nbformat": 4,
 "nbformat_minor": 2
}

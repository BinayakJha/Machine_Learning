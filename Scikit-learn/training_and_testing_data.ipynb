{
 "cells": [
  {
   "cell_type": "code",
   "execution_count": 2,
   "metadata": {},
   "outputs": [
    {
     "name": "stdout",
     "output_type": "stream",
     "text": [
      "array([[10.1 ,  0.4 ],\n",
      "       [ 8.3 ,  0.8 ],\n",
      "       [ 8.7 ,  0.9 ],\n",
      "       [ 9.1 ,  0.68],\n",
      "       [ 7.7 ,  0.9 ],\n",
      "       [ 9.3 ,  0.8 ]])\n",
      "\n",
      "array([1.5, 1.2, 1.2, 1.3, 1.1, 1.6])\n",
      "\n",
      "array([[ 9.5 ,  0.77],\n",
      "       [10.2 ,  0.5 ]])\n",
      "\n",
      "array([1.6, 1.4])\n",
      "\n"
     ]
    }
   ],
   "source": [
    "import numpy as np\n",
    "data = np.array([\n",
    "  [10.2 ,  0.5 ],\n",
    "  [ 8.7 ,  0.9 ],\n",
    "  [ 9.3 ,  0.8 ],\n",
    "  [10.1 ,  0.4 ],\n",
    "  [ 9.5 ,  0.77],\n",
    "  [ 9.1 ,  0.68],\n",
    "  [ 7.7 ,  0.9 ],\n",
    "  [ 8.3 ,  0.8 ]])\n",
    "labels = np.array(\n",
    "  [1.4, 1.2, 1.6, 1.5, 1.6, 1.3, 1.1, 1.2])\n",
    "\n",
    "from sklearn.model_selection import train_test_split\n",
    "split_dataset = train_test_split(data, labels)\n",
    "train_data = split_dataset[0]\n",
    "test_data = split_dataset[1]\n",
    "train_labels = split_dataset[2]\n",
    "test_labels = split_dataset[3]\n",
    "\n",
    "print(f'{repr(train_data)}\\n')\n",
    "print(f'{repr(train_labels)}\\n')\n",
    "print(f'{repr(test_data)}\\n')\n",
    "print(f'{repr(test_labels)}\\n')"
   ]
  },
  {
   "cell_type": "code",
   "execution_count": 3,
   "metadata": {},
   "outputs": [
    {
     "name": "stdout",
     "output_type": "stream",
     "text": [
      "array([[9.5 , 0.77],\n",
      "       [9.1 , 0.68],\n",
      "       [7.7 , 0.9 ],\n",
      "       [8.7 , 0.9 ],\n",
      "       [8.3 , 0.8 ]])\n",
      "\n",
      "array([1.6, 1.3, 1.1, 1.2, 1.2])\n",
      "\n",
      "array([[10.1,  0.4],\n",
      "       [ 9.3,  0.8],\n",
      "       [10.2,  0.5]])\n",
      "\n",
      "array([1.5, 1.6, 1.4])\n",
      "\n"
     ]
    }
   ],
   "source": [
    "data = np.array([\n",
    "  [10.2 ,  0.5 ],\n",
    "  [ 8.7 ,  0.9 ],\n",
    "  [ 9.3 ,  0.8 ],\n",
    "  [10.1 ,  0.4 ],\n",
    "  [ 9.5 ,  0.77],\n",
    "  [ 9.1 ,  0.68],\n",
    "  [ 7.7 ,  0.9 ],\n",
    "  [ 8.3 ,  0.8 ]])\n",
    "labels = np.array(\n",
    "  [1.4, 1.2, 1.6, 1.5, 1.6, 1.3, 1.1, 1.2])\n",
    "\n",
    "from sklearn.model_selection import train_test_split\n",
    "split_dataset = train_test_split(data, labels,\n",
    "                                test_size=0.375)\n",
    "train_data = split_dataset[0]\n",
    "test_data = split_dataset[1]\n",
    "train_labels = split_dataset[2]\n",
    "test_labels = split_dataset[3]\n",
    "\n",
    "print('{}\\n'.format(repr(train_data)))\n",
    "print('{}\\n'.format(repr(train_labels)))\n",
    "print('{}\\n'.format(repr(test_data)))\n",
    "print('{}\\n'.format(repr(test_labels)))"
   ]
  },
  {
   "cell_type": "code",
   "execution_count": null,
   "metadata": {},
   "outputs": [],
   "source": []
  }
 ],
 "metadata": {
  "kernelspec": {
   "display_name": "Python 3.10.0 64-bit",
   "language": "python",
   "name": "python3"
  },
  "language_info": {
   "codemirror_mode": {
    "name": "ipython",
    "version": 3
   },
   "file_extension": ".py",
   "mimetype": "text/x-python",
   "name": "python",
   "nbconvert_exporter": "python",
   "pygments_lexer": "ipython3",
   "version": "3.10.0"
  },
  "orig_nbformat": 4,
  "vscode": {
   "interpreter": {
    "hash": "aee8b7b246df8f9039afb4144a1f6fd8d2ca17a180786b69acc140d282b71a49"
   }
  }
 },
 "nbformat": 4,
 "nbformat_minor": 2
}

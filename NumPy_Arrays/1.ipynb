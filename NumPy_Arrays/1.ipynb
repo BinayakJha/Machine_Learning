{
 "cells": [
  {
   "cell_type": "code",
   "execution_count": 2,
   "metadata": {},
   "outputs": [],
   "source": [
    "import numpy as np # imports numpy as np so now we can write np instead of numpy in the code"
   ]
  },
  {
   "cell_type": "markdown",
   "metadata": {},
   "source": [
    "# 1. Arrays"
   ]
  },
  {
   "cell_type": "code",
   "execution_count": 3,
   "metadata": {},
   "outputs": [
    {
     "name": "stdout",
     "output_type": "stream",
     "text": [
      "array([[0., 1., 2.],\n",
      "       [3., 4., 5.]], dtype=float32)\n"
     ]
    }
   ],
   "source": [
    "arr = np.array([[0,1,2],[3,4,5]], dtype=np.float32)\n",
    "print(repr(arr))"
   ]
  },
  {
   "cell_type": "markdown",
   "metadata": {},
   "source": [
    "Remember <br>\n",
    "\n",
    "**int < float < string**\n",
    "\n",
    "So if there is 3 types of data in a single array it will inherit the biggest type of data."
   ]
  },
  {
   "cell_type": "markdown",
   "metadata": {},
   "source": [
    "# 2. Copying"
   ]
  },
  {
   "cell_type": "code",
   "execution_count": 4,
   "metadata": {},
   "outputs": [
    {
     "name": "stdout",
     "output_type": "stream",
     "text": [
      "Array a: array([0, 1])\n",
      "Array a: array([5, 1])\n",
      "Array b: array([2, 3])\n"
     ]
    }
   ],
   "source": [
    "a = np.array([0,1])\n",
    "b = np.array([2,3])\n",
    "c = a\n",
    "\n",
    "print ('Array a: {}'.format(repr(a)))\n",
    "c[0] = 5\n",
    "\n",
    "print ('Array a: {}'.format(repr(a)))\n",
    "d = b.copy()\n",
    "\n",
    "d[0] = 6\n",
    "print ('Array b: {}'.format(repr(b)))"
   ]
  },
  {
   "cell_type": "markdown",
   "metadata": {},
   "source": [
    "# 3. Casting"
   ]
  },
  {
   "cell_type": "code",
   "execution_count": 5,
   "metadata": {},
   "outputs": [
    {
     "name": "stdout",
     "output_type": "stream",
     "text": [
      "int64\n",
      "float32\n"
     ]
    }
   ],
   "source": [
    "arr = np.array([0,1,2])\n",
    "print(arr.dtype)\n",
    "arr = arr.astype(np.float32) # astype does the casting\n",
    "print(arr.dtype)"
   ]
  },
  {
   "cell_type": "markdown",
   "metadata": {},
   "source": [
    "# 4. NaN (Not A Number)"
   ]
  },
  {
   "cell_type": "code",
   "execution_count": 6,
   "metadata": {},
   "outputs": [
    {
     "name": "stdout",
     "output_type": "stream",
     "text": [
      "array([nan,  1.,  2.])\n",
      "array(['nan', 'abc'], dtype='<U32')\n"
     ]
    },
    {
     "data": {
      "text/plain": [
       "array([nan,  1.,  2.], dtype=float32)"
      ]
     },
     "execution_count": 6,
     "metadata": {},
     "output_type": "execute_result"
    }
   ],
   "source": [
    "arr = np.array([np.nan,1,2])\n",
    "print(repr(arr))\n",
    "\n",
    "arr = np.array([np.nan,'abc'])\n",
    "print(repr(arr))\n",
    "\n",
    "np.array([np.nan,1,2],dtype=np.float32) # np.nan will not work on int32"
   ]
  },
  {
   "cell_type": "markdown",
   "metadata": {},
   "source": [
    "# 5. Infinity"
   ]
  },
  {
   "cell_type": "code",
   "execution_count": 7,
   "metadata": {},
   "outputs": [
    {
     "name": "stdout",
     "output_type": "stream",
     "text": [
      "True\n",
      "array([inf,  5.])\n",
      "array([-inf,   5.])\n"
     ]
    },
    {
     "data": {
      "text/plain": [
       "array([inf,  3.], dtype=float32)"
      ]
     },
     "execution_count": 7,
     "metadata": {},
     "output_type": "execute_result"
    }
   ],
   "source": [
    "print(np.inf > 1000000)\n",
    "\n",
    "arr = np.array([np.inf,5])\n",
    "print(repr(arr))\n",
    "\n",
    "arr = np.array([-np.inf,5])\n",
    "print(repr(arr))\n",
    "\n",
    "np.array([np.inf, 3], dtype=np.float32) # np.inf will not work on int32"
   ]
  },
  {
   "cell_type": "markdown",
   "metadata": {},
   "source": [
    "# 6. Ranged Data"
   ]
  },
  {
   "cell_type": "code",
   "execution_count": 8,
   "metadata": {},
   "outputs": [
    {
     "name": "stdout",
     "output_type": "stream",
     "text": [
      "array([0, 1, 2, 3, 4])\n",
      "array([0., 1., 2., 3., 4., 5.])\n",
      "array([-1,  0,  1,  2,  3])\n",
      "array([-1.5,  0.5,  2.5])\n",
      "\n",
      "Linspace: \n",
      " \n",
      "array([ 5.,  7.,  9., 11.])\n",
      "array([5. , 6.5, 8. , 9.5])\n",
      "array([ 5,  7,  9, 11], dtype=int32)\n"
     ]
    }
   ],
   "source": [
    "arr = np.arange(5)\n",
    "print(repr(arr))\n",
    "\n",
    "arr = np.arange(5.1)\n",
    "print(repr(arr))\n",
    "\n",
    "arr = np.arange(-1, 4)\n",
    "print(repr(arr))\n",
    "\n",
    "arr = np.arange(-1.5, 4, 2)\n",
    "print(repr(arr))\n",
    "# Linspace\n",
    "print('\\nLinspace: \\n ')\n",
    "arr = np.linspace(5, 11, num=4)\n",
    "print(repr(arr))\n",
    "\n",
    "arr = np.linspace(5, 11, num=4, endpoint=False)\n",
    "print(repr(arr))\n",
    "\n",
    "arr = np.linspace(5, 11, num=4, dtype=np.int32)\n",
    "print(repr(arr))"
   ]
  },
  {
   "cell_type": "markdown",
   "metadata": {},
   "source": [
    "# 7. Reshaping data"
   ]
  },
  {
   "cell_type": "code",
   "execution_count": 9,
   "metadata": {},
   "outputs": [
    {
     "name": "stdout",
     "output_type": "stream",
     "text": [
      "array([[0, 1, 2, 3],\n",
      "       [4, 5, 6, 7]])\n",
      "New shape: (2, 4)\n",
      "array([[[0, 1],\n",
      "        [2, 3]],\n",
      "\n",
      "       [[4, 5],\n",
      "        [6, 7]]])\n",
      "New shape: (2, 2, 2)\n"
     ]
    }
   ],
   "source": [
    "arr = np.arange(8)\n",
    "\n",
    "reshaped_arr = np.reshape(arr, (2,4))\n",
    "print(repr(reshaped_arr))\n",
    "print('New shape: {}'.format(reshaped_arr.shape))\n",
    "\n",
    "reshaped_arr = np.reshape(arr, (-1, 2, 2))\n",
    "print(repr(reshaped_arr))\n",
    "print('New shape: {}'.format(reshaped_arr.shape))"
   ]
  },
  {
   "cell_type": "code",
   "execution_count": 10,
   "metadata": {},
   "outputs": [
    {
     "name": "stdout",
     "output_type": "stream",
     "text": [
      "array([[0, 1, 2, 3],\n",
      "       [4, 5, 6, 7]])\n",
      "arr shape: (2, 4)\n",
      "array([0, 1, 2, 3, 4, 5, 6, 7])\n",
      "flattened shape: (8,)\n"
     ]
    }
   ],
   "source": [
    "# Flatten\n",
    "arr = np.arange(8)\n",
    "arr = np.reshape(arr, (2, 4))\n",
    "flattened = arr.flatten()\n",
    "print(repr(arr))\n",
    "print('arr shape: {}'.format(arr.shape))\n",
    "print(repr(flattened))\n",
    "print('flattened shape: {}'.format(flattened.shape))"
   ]
  },
  {
   "cell_type": "markdown",
   "metadata": {},
   "source": [
    "# 8. Transposing\n"
   ]
  },
  {
   "cell_type": "code",
   "execution_count": 11,
   "metadata": {},
   "outputs": [
    {
     "name": "stdout",
     "output_type": "stream",
     "text": [
      "array([[0, 1, 2, 3],\n",
      "       [4, 5, 6, 7]])\n",
      "arr shape: (2, 4)\n",
      "array([[0, 4],\n",
      "       [1, 5],\n",
      "       [2, 6],\n",
      "       [3, 7]])\n",
      "transposed shape: (4, 2)\n"
     ]
    }
   ],
   "source": [
    "arr = np.arange(8)\n",
    "arr = np.reshape(arr, (2, 4))\n",
    "transposed = np.transpose(arr)\n",
    "print(repr(arr))\n",
    "print('arr shape: {}'.format(arr.shape))\n",
    "print(repr(transposed))\n",
    "print('transposed shape: {}'.format(transposed.shape))"
   ]
  },
  {
   "cell_type": "code",
   "execution_count": 12,
   "metadata": {},
   "outputs": [
    {
     "name": "stdout",
     "output_type": "stream",
     "text": [
      "arr shape: (3, 4, 2)\n",
      "transposed shape: (4, 2, 3)\n"
     ]
    }
   ],
   "source": [
    "# transpose function axes argument \n",
    "arr = np.arange(24)\n",
    "arr = np.reshape(arr, (3, 4, 2))\n",
    "transposed = np.transpose(arr, axes=(1, 2, 0))\n",
    "print('arr shape: {}'.format(arr.shape))\n",
    "print('transposed shape: {}'.format(transposed.shape))"
   ]
  },
  {
   "cell_type": "markdown",
   "metadata": {},
   "source": [
    "# 9. Zeros and ones"
   ]
  },
  {
   "cell_type": "code",
   "execution_count": 13,
   "metadata": {},
   "outputs": [
    {
     "name": "stdout",
     "output_type": "stream",
     "text": [
      "array([0., 0., 0., 0.])\n",
      "array([[1., 1., 1.],\n",
      "       [1., 1., 1.]])\n",
      "array([[1, 1, 1],\n",
      "       [1, 1, 1]], dtype=int32)\n"
     ]
    }
   ],
   "source": [
    "arr = np.zeros(4)\n",
    "print(repr(arr))\n",
    "\n",
    "arr = np.ones((2,3))\n",
    "print(repr(arr))\n",
    "\n",
    "arr = np.ones((2,3), dtype=np.int32)\n",
    "print(repr(arr))"
   ]
  },
  {
   "cell_type": "code",
   "execution_count": 14,
   "metadata": {},
   "outputs": [
    {
     "name": "stdout",
     "output_type": "stream",
     "text": [
      "array([[0, 0],\n",
      "       [0, 0]])\n",
      "array([[1., 1.],\n",
      "       [1., 1.]])\n",
      "array([[1, 1],\n",
      "       [1, 1]], dtype=int32)\n"
     ]
    }
   ],
   "source": [
    "arr = np.array([[1,2],[3,4]])\n",
    "print(repr(np.zeros_like(arr)))\n",
    "\n",
    "arr = np.array([[0., 1.], [1.2, 4.]])\n",
    "print(repr(np.ones_like(arr)))\n",
    "print(repr(np.ones_like(arr, dtype=np.int32)))"
   ]
  },
  {
   "cell_type": "markdown",
   "metadata": {},
   "source": [
    "# 10. Arithematic"
   ]
  },
  {
   "cell_type": "code",
   "execution_count": 15,
   "metadata": {},
   "outputs": [
    {
     "name": "stdout",
     "output_type": "stream",
     "text": [
      "array([[2, 3],\n",
      "       [4, 5]])\n",
      "array([[-0.2,  0.8],\n",
      "       [ 1.8,  2.8]])\n",
      "array([[2, 4],\n",
      "       [6, 8]])\n",
      "array([[0.5, 1. ],\n",
      "       [1.5, 2. ]])\n",
      "array([[0, 1],\n",
      "       [1, 2]])\n",
      "array([[ 1,  4],\n",
      "       [ 9, 16]])\n",
      "array([[1.        , 1.41421356],\n",
      "       [1.73205081, 2.        ]])\n"
     ]
    }
   ],
   "source": [
    "arr = np.array([[1, 2], [3, 4]])\n",
    "# Add 1 to element values\n",
    "print(repr(arr + 1))\n",
    "# Subtract element values by 1.2\n",
    "print(repr(arr - 1.2))\n",
    "# Double element values\n",
    "print(repr(arr * 2))\n",
    "# Halve element values\n",
    "print(repr(arr / 2))\n",
    "# Integer division (half)\n",
    "print(repr(arr // 2))\n",
    "# Square element values\n",
    "print(repr(arr**2))\n",
    "# Square root element values\n",
    "print(repr(arr**0.5))"
   ]
  },
  {
   "cell_type": "markdown",
   "metadata": {},
   "source": [
    "# 11. Non-linear functions"
   ]
  },
  {
   "cell_type": "code",
   "execution_count": 16,
   "metadata": {},
   "outputs": [
    {
     "name": "stdout",
     "output_type": "stream",
     "text": [
      "array([[ 2.71828183,  7.3890561 ],\n",
      "       [20.08553692, 54.59815003]])\n",
      "array([[ 2.,  4.],\n",
      "       [ 8., 16.]])\n",
      "array([[0.        , 2.30258509],\n",
      "       [1.        , 1.14472989]])\n",
      "array([[0.        , 1.        ],\n",
      "       [0.43429448, 0.49714987]])\n",
      "array([[ 3,  9],\n",
      "       [27, 81]])\n",
      "array([[ 10.2,  16. ],\n",
      "       [ 27. , 625. ]])\n"
     ]
    }
   ],
   "source": [
    "arr = np.array([[1, 2], [3, 4]])\n",
    "# Raised to power of e\n",
    "print(repr(np.exp(arr)))\n",
    "# Raised to power of 2\n",
    "print(repr(np.exp2(arr)))\n",
    "\n",
    "arr2 = np.array([[1, 10], [np.e, np.pi]])\n",
    "# Natural logarithm\n",
    "print(repr(np.log(arr2)))\n",
    "# Base 10 logarithm\n",
    "print(repr(np.log10(arr2)))\n",
    "\n",
    "# Power\n",
    "arr = np.array([[1, 2], [3, 4]])\n",
    "# Raise 3 to power of each number in arr\n",
    "print(repr(np.power(3, arr)))\n",
    "arr2 = np.array([[10.2, 4], [3, 5]])\n",
    "# Raise arr2 to power of each number in arr\n",
    "print(repr(np.power(arr2, arr)))"
   ]
  },
  {
   "cell_type": "markdown",
   "metadata": {},
   "source": [
    "# 12. Matrix Multiplication"
   ]
  },
  {
   "cell_type": "code",
   "execution_count": 17,
   "metadata": {},
   "outputs": [
    {
     "name": "stdout",
     "output_type": "stream",
     "text": [
      "27\n",
      "array([[  5,   4,  -7],\n",
      "       [  9,   8, -13],\n",
      "       [ 13,  12, -19]])\n",
      "array([[  4,   4],\n",
      "       [-11, -10]])\n"
     ]
    }
   ],
   "source": [
    "arr1 = np.array([1, 2, 3])\n",
    "arr2 = np.array([-3, 0, 10])\n",
    "print(np.matmul(arr1,arr2))\n",
    "\n",
    "arr3 = np.array([[1, 2], [3, 4], [5, 6]])\n",
    "arr4 = np.array([[-1, 0, 1], [3, 2, -4]])\n",
    "print(repr(np.matmul(arr3, arr4)))\n",
    "print(repr(np.matmul(arr4, arr3)))\n",
    "# This will result in a ValueError: If we uncomment line 10 and run again.\n",
    "#print(repr(np.matmul(arr3, arr3)))"
   ]
  },
  {
   "cell_type": "markdown",
   "metadata": {},
   "source": [
    "# 13. Random integers"
   ]
  },
  {
   "cell_type": "code",
   "execution_count": 18,
   "metadata": {},
   "outputs": [
    {
     "name": "stdout",
     "output_type": "stream",
     "text": [
      "3\n",
      "5\n",
      "array([[ 6,  9, -1],\n",
      "       [ 4, -3, -2],\n",
      "       [ 2,  9,  5]])\n"
     ]
    }
   ],
   "source": [
    "print(np.random.randint(5))\n",
    "print(np.random.randint(5, high=6))\n",
    "random_arr = np.random.randint(-3, high=14,\n",
    "                               size=(3, 3))\n",
    "print(repr(random_arr))"
   ]
  },
  {
   "cell_type": "markdown",
   "metadata": {},
   "source": [
    "# 14. Utility functions"
   ]
  },
  {
   "cell_type": "code",
   "execution_count": 19,
   "metadata": {},
   "outputs": [
    {
     "name": "stdout",
     "output_type": "stream",
     "text": [
      "5\n",
      "array([[15, 75],\n",
      "       [12, 78]])\n",
      "8\n",
      "array([[18, 75],\n",
      "       [25, 46]])\n",
      "5\n",
      "array([[15, 75],\n",
      "       [12, 78]])\n"
     ]
    }
   ],
   "source": [
    "np.random.seed(1)\n",
    "print(np.random.randint(10))\n",
    "random_arr = np.random.randint(3, high=100,\n",
    "                               size=(2, 2))\n",
    "print(repr(random_arr))\n",
    "\n",
    "# New seed\n",
    "np.random.seed(2)\n",
    "print(np.random.randint(10))\n",
    "random_arr = np.random.randint(3, high=100,\n",
    "                               size=(2, 2))\n",
    "print(repr(random_arr))\n",
    "\n",
    "# Original seed\n",
    "np.random.seed(1)\n",
    "print(np.random.randint(10))\n",
    "random_arr = np.random.randint(3, high=100,\n",
    "                               size=(2, 2))\n",
    "print(repr(random_arr))"
   ]
  },
  {
   "cell_type": "code",
   "execution_count": 20,
   "metadata": {},
   "outputs": [
    {
     "name": "stdout",
     "output_type": "stream",
     "text": [
      "array([3, 4, 2, 5, 1])\n",
      "array([5, 3, 4, 2, 1])\n",
      "array([[4, 5, 6],\n",
      "       [7, 8, 9],\n",
      "       [1, 2, 3]])\n"
     ]
    }
   ],
   "source": [
    "vec = np.array([1, 2, 3, 4, 5])\n",
    "np.random.shuffle(vec)\n",
    "print(repr(vec))\n",
    "np.random.shuffle(vec)\n",
    "print(repr(vec))\n",
    "\n",
    "matrix = np.array([[1, 2, 3],\n",
    "                   [4, 5, 6],\n",
    "                   [7, 8, 9]])\n",
    "np.random.shuffle(matrix)\n",
    "print(repr(matrix))"
   ]
  },
  {
   "cell_type": "markdown",
   "metadata": {},
   "source": [
    "# 15. Distributions"
   ]
  },
  {
   "cell_type": "code",
   "execution_count": 21,
   "metadata": {},
   "outputs": [
    {
     "name": "stdout",
     "output_type": "stream",
     "text": [
      "0.3132735169322751\n",
      "0.4408281904196243\n",
      "array([0.44345289, 0.22957721, 0.53441391])\n",
      "array([[5.09984683, 0.85200471],\n",
      "       [0.60549667, 5.33388844]])\n"
     ]
    }
   ],
   "source": [
    "print(np.random.uniform())\n",
    "print(np.random.uniform(low=-1.5, high=2.2))\n",
    "print(repr(np.random.uniform(size=3)))\n",
    "print(repr(np.random.uniform(low=-3.4, high=5.9,\n",
    "                             size=(2, 2))))"
   ]
  },
  {
   "cell_type": "code",
   "execution_count": 22,
   "metadata": {},
   "outputs": [
    {
     "name": "stdout",
     "output_type": "stream",
     "text": [
      "0.7252740646272712\n",
      "4.772112039383628\n",
      "array([[ 2.07318791, -2.17754724],\n",
      "       [-0.89337346, -0.89545991]])\n"
     ]
    }
   ],
   "source": [
    "print(np.random.normal())\n",
    "print(np.random.normal(loc=1.5, scale=3.5))\n",
    "print(repr(np.random.normal(loc=-2.4, scale=4.0,\n",
    "                            size=(2, 2))))"
   ]
  },
  {
   "cell_type": "markdown",
   "metadata": {},
   "source": [
    "# 16. Custom Sampling"
   ]
  },
  {
   "cell_type": "code",
   "execution_count": 23,
   "metadata": {},
   "outputs": [
    {
     "name": "stdout",
     "output_type": "stream",
     "text": [
      "green\n",
      "array(['blue', 'red'], dtype='<U5')\n",
      "array([['red', 'red'],\n",
      "       ['blue', 'red']], dtype='<U5')\n"
     ]
    }
   ],
   "source": [
    "colors = ['red','blue','green']\n",
    "print(np.random.choice(colors))\n",
    "print(repr(np.random.choice(colors,size=2)))\n",
    "print(repr(np.random.choice(colors, size=(2, 2),\n",
    "                            p=[0.8, 0.19, 0.01])))"
   ]
  },
  {
   "cell_type": "markdown",
   "metadata": {},
   "source": [
    "The required argument for np.random.choice is the custom distribution we sample from. The p keyword argument denotes the probabilities given to each element in the input distribution. Note that the list of probabilities for p must sum to 1.\n",
    "\n",
    "In the example, we set p such that 'red' has a probability of 0.8 of being chosen, 'blue' has a probability of 0.19, and 'green' has a probability of 0.01. When p is not set, the probabilities are equal for each element in the distribution (and sum to 1)."
   ]
  },
  {
   "cell_type": "markdown",
   "metadata": {},
   "source": [
    "# 17. Array Acessing\n"
   ]
  },
  {
   "cell_type": "code",
   "execution_count": 24,
   "metadata": {},
   "outputs": [
    {
     "name": "stdout",
     "output_type": "stream",
     "text": [
      "1\n",
      "5\n",
      "array([6, 3])\n"
     ]
    }
   ],
   "source": [
    "arr = np.array([1, 2, 3, 4, 5])\n",
    "print(arr[0])\n",
    "print(arr[4])\n",
    "\n",
    "arr = np.array([[6, 3], [0, 2]])\n",
    "# Subarray\n",
    "print(repr(arr[0]))"
   ]
  },
  {
   "cell_type": "markdown",
   "metadata": {},
   "source": [
    "# 18. Slicing\n"
   ]
  },
  {
   "cell_type": "code",
   "execution_count": 25,
   "metadata": {},
   "outputs": [
    {
     "name": "stdout",
     "output_type": "stream",
     "text": [
      "array([1, 2, 3, 4, 5])\n",
      "array([2, 3, 4, 5])\n",
      "array([3, 4])\n",
      "array([1, 2, 3, 4])\n",
      "array([4, 5])\n"
     ]
    }
   ],
   "source": [
    "arr = np.array([1, 2, 3, 4, 5])\n",
    "print(repr(arr[:]))\n",
    "print(repr(arr[1:]))\n",
    "print(repr(arr[2:4]))\n",
    "print(repr(arr[:-1]))\n",
    "print(repr(arr[-2:]))"
   ]
  },
  {
   "cell_type": "code",
   "execution_count": 26,
   "metadata": {},
   "outputs": [
    {
     "name": "stdout",
     "output_type": "stream",
     "text": [
      "array([[1, 2, 3],\n",
      "       [4, 5, 6],\n",
      "       [7, 8, 9]])\n",
      "array([[4, 5, 6],\n",
      "       [7, 8, 9]])\n",
      "array([3, 6, 9])\n",
      "array([[2, 3],\n",
      "       [5, 6],\n",
      "       [8, 9]])\n",
      "array([[2, 3]])\n",
      "array([2, 3])\n"
     ]
    }
   ],
   "source": [
    "arr = np.array([[1, 2, 3],\n",
    "                [4, 5, 6],\n",
    "                [7, 8, 9]])\n",
    "print(repr(arr[:]))\n",
    "print(repr(arr[1:]))\n",
    "print(repr(arr[:, -1]))\n",
    "print(repr(arr[:, 1:]))\n",
    "print(repr(arr[0:1, 1:]))\n",
    "print(repr(arr[0, 1:]))"
   ]
  },
  {
   "cell_type": "markdown",
   "metadata": {},
   "source": [
    "# 19. Argmin and argmax"
   ]
  },
  {
   "cell_type": "code",
   "execution_count": 27,
   "metadata": {},
   "outputs": [
    {
     "name": "stdout",
     "output_type": "stream",
     "text": [
      "2\n",
      "1\n",
      "5\n"
     ]
    }
   ],
   "source": [
    "arr = np.array([[-2, -1, -3],\n",
    "                [4, 5, -6],\n",
    "                [-3, 9, 1]])\n",
    "print(np.argmin(arr[0]))\n",
    "print(np.argmax(arr[2]))\n",
    "print(np.argmin(arr))"
   ]
  },
  {
   "cell_type": "code",
   "execution_count": 28,
   "metadata": {},
   "outputs": [
    {
     "name": "stdout",
     "output_type": "stream",
     "text": [
      "array([2, 0, 1])\n",
      "array([2, 2, 0])\n",
      "array([1, 1, 1])\n"
     ]
    }
   ],
   "source": [
    "arr = np.array([[-2, -1, -3],\n",
    "                [4, 5, -6],\n",
    "                [-3, 9, 1]])\n",
    "print(repr(np.argmin(arr, axis=0)))\n",
    "print(repr(np.argmin(arr, axis=1)))\n",
    "print(repr(np.argmax(arr, axis=-1)))"
   ]
  },
  {
   "cell_type": "markdown",
   "metadata": {},
   "source": [
    "# 20. Filtering data"
   ]
  },
  {
   "cell_type": "code",
   "execution_count": 29,
   "metadata": {},
   "outputs": [
    {
     "name": "stdout",
     "output_type": "stream",
     "text": [
      "array([[False, False,  True],\n",
      "       [False,  True, False],\n",
      "       [False, False, False]])\n",
      "array([[False,  True,  True],\n",
      "       [ True,  True, False],\n",
      "       [False, False,  True]])\n",
      "array([[ True,  True,  True],\n",
      "       [False,  True,  True],\n",
      "       [ True,  True, False]])\n",
      "array([[False, False, False],\n",
      "       [ True, False, False],\n",
      "       [False, False,  True]])\n"
     ]
    }
   ],
   "source": [
    "arr = np.array([[0, 2, 3],\n",
    "                [1, 3, -6],\n",
    "                [-3, -2, 1]])\n",
    "print(repr(arr == 3))\n",
    "print(repr(arr > 0))\n",
    "print(repr(arr != 1))\n",
    "# Negated from the previous step\n",
    "print(repr(~(arr != 1)))"
   ]
  },
  {
   "cell_type": "code",
   "execution_count": 30,
   "metadata": {},
   "outputs": [
    {
     "name": "stdout",
     "output_type": "stream",
     "text": [
      "array([[False, False,  True],\n",
      "       [False,  True, False],\n",
      "       [ True, False, False]])\n"
     ]
    }
   ],
   "source": [
    "arr = np.array([[0, 2, np.nan],\n",
    "                [1, np.nan, -6],\n",
    "                [np.nan, -2, 1]])\n",
    "print(repr(np.isnan(arr)))"
   ]
  },
  {
   "cell_type": "markdown",
   "metadata": {},
   "source": [
    "# 21. Filtering in NumPy"
   ]
  },
  {
   "cell_type": "code",
   "execution_count": 32,
   "metadata": {},
   "outputs": [
    {
     "name": "stdout",
     "output_type": "stream",
     "text": [
      "(array([0, 2]),)\n",
      "(array([1, 3]),)\n",
      "array([0, 0, 1, 2])\n",
      "array([1, 2, 0, 0])\n",
      "array([ 2,  3,  1, -3])\n"
     ]
    }
   ],
   "source": [
    "print(repr(np.where([True, False, True])))\n",
    "\n",
    "arr = np.array([0, 3, 5, 3, 1])\n",
    "print(repr(np.where(arr == 3)))\n",
    "\n",
    "arr = np.array([[0, 2, 3],\n",
    "                [1, 0, 0],\n",
    "                [-3, 0, 0]])\n",
    "x_ind, y_ind = np.where(arr != 0)\n",
    "print(repr(x_ind)) # x indices of non-zero elements\n",
    "print(repr(y_ind)) # y indices of non-zero elements\n",
    "print(repr(arr[x_ind, y_ind]))"
   ]
  },
  {
   "cell_type": "code",
   "execution_count": 33,
   "metadata": {},
   "outputs": [
    {
     "name": "stdout",
     "output_type": "stream",
     "text": [
      "array([[ 1, -5],\n",
      "       [-1,  4]])\n",
      "array([[-2, -5],\n",
      "       [ 3,  4]])\n",
      "array([[-2, -5],\n",
      "       [-1, -8]])\n"
     ]
    }
   ],
   "source": [
    "np_filter = np.array([[True, False], [False, True]])\n",
    "positives = np.array([[1, 2], [3, 4]])\n",
    "negatives = np.array([[-2, -5], [-1, -8]])\n",
    "print(repr(np.where(np_filter, positives, negatives)))\n",
    "\n",
    "np_filter = positives > 2\n",
    "print(repr(np.where(np_filter, positives, negatives)))\n",
    "\n",
    "np_filter = negatives > 0\n",
    "print(repr(np.where(np_filter, positives, negatives)))"
   ]
  },
  {
   "cell_type": "code",
   "execution_count": 34,
   "metadata": {},
   "outputs": [
    {
     "name": "stdout",
     "output_type": "stream",
     "text": [
      "array([[ 1, -1],\n",
      "       [-1,  4]])\n"
     ]
    }
   ],
   "source": [
    "np_filter = np.array([[True, False], [False, True]])\n",
    "positives = np.array([[1, 2], [3, 4]])\n",
    "print(repr(np.where(np_filter, positives, -1)))"
   ]
  },
  {
   "cell_type": "markdown",
   "metadata": {},
   "source": [
    "# 22. Axis-wise filtering"
   ]
  },
  {
   "cell_type": "code",
   "execution_count": 36,
   "metadata": {},
   "outputs": [
    {
     "name": "stdout",
     "output_type": "stream",
     "text": [
      "array([[False, False, False],\n",
      "       [ True,  True, False],\n",
      "       [ True,  True,  True]])\n",
      "True\n",
      "False\n"
     ]
    }
   ],
   "source": [
    "arr = np.array([[-2, -1, -3],\n",
    "                [4, 5, -6],\n",
    "                [3, 9, 1]])\n",
    "print(repr(arr > 0))\n",
    "print(np.any(arr > 0))\n",
    "print(np.all(arr > 0))"
   ]
  },
  {
   "cell_type": "code",
   "execution_count": 37,
   "metadata": {},
   "outputs": [
    {
     "name": "stdout",
     "output_type": "stream",
     "text": [
      "array([[False, False, False],\n",
      "       [ True,  True, False],\n",
      "       [ True,  True,  True]])\n",
      "array([ True,  True,  True])\n",
      "array([False,  True,  True])\n",
      "array([False, False,  True])\n"
     ]
    }
   ],
   "source": [
    "arr = np.array([[-2, -1, -3],\n",
    "                [4, 5, -6],\n",
    "                [3, 9, 1]])\n",
    "print(repr(arr > 0))\n",
    "print(repr(np.any(arr > 0, axis=0)))\n",
    "print(repr(np.any(arr > 0, axis=1)))\n",
    "print(repr(np.all(arr > 0, axis=1)))"
   ]
  },
  {
   "cell_type": "code",
   "execution_count": 38,
   "metadata": {},
   "outputs": [
    {
     "name": "stdout",
     "output_type": "stream",
     "text": [
      "[False  True  True]\n",
      "array([[ 4,  5, -6],\n",
      "       [ 3,  9,  1]])\n"
     ]
    }
   ],
   "source": [
    "arr = np.array([[-2, -1, -3],\n",
    "                [4, 5, -6],\n",
    "                [3, 9, 1]])\n",
    "has_positive = np.any(arr > 0, axis=1)\n",
    "print(has_positive)\n",
    "print(repr(arr[np.where(has_positive)]))"
   ]
  },
  {
   "cell_type": "markdown",
   "metadata": {},
   "source": [
    "# 23. Analysis"
   ]
  },
  {
   "cell_type": "code",
   "execution_count": 39,
   "metadata": {},
   "outputs": [
    {
     "name": "stdout",
     "output_type": "stream",
     "text": [
      "-60\n",
      "72\n",
      "array([ -3,  -2, -60])\n",
      "array([72,  3,  4])\n"
     ]
    }
   ],
   "source": [
    "arr = np.array([[0, 72, 3],\n",
    "                [1, 3, -60],\n",
    "                [-3, -2, 4]])\n",
    "print(arr.min())\n",
    "print(arr.max())\n",
    "\n",
    "print(repr(arr.min(axis=0)))\n",
    "print(repr(arr.max(axis=-1)))"
   ]
  },
  {
   "cell_type": "markdown",
   "metadata": {},
   "source": [
    "# 24. Statistical Metrics"
   ]
  },
  {
   "cell_type": "code",
   "execution_count": 40,
   "metadata": {},
   "outputs": [
    {
     "name": "stdout",
     "output_type": "stream",
     "text": [
      "2.0\n",
      "977.3333333333334\n",
      "1.0\n",
      "array([ 3.,  1., -2.])\n"
     ]
    }
   ],
   "source": [
    "arr = np.array([[0, 72, 3],\n",
    "                [1, 3, -60],\n",
    "                [-3, -2, 4]])\n",
    "print(np.mean(arr))\n",
    "print(np.var(arr))\n",
    "print(np.median(arr))\n",
    "print(repr(np.median(arr, axis=-1)))"
   ]
  },
  {
   "cell_type": "markdown",
   "metadata": {},
   "source": [
    "# 25. Summation"
   ]
  },
  {
   "cell_type": "code",
   "execution_count": 41,
   "metadata": {},
   "outputs": [
    {
     "name": "stdout",
     "output_type": "stream",
     "text": [
      "18\n",
      "array([ -2,  73, -53])\n",
      "array([ 75, -56,  -1])\n"
     ]
    }
   ],
   "source": [
    "arr = np.array([[0, 72, 3],\n",
    "                [1, 3, -60],\n",
    "                [-3, -2, 4]])\n",
    "print(np.sum(arr))\n",
    "print(repr(np.sum(arr, axis=0)))\n",
    "print(repr(np.sum(arr, axis=1)))"
   ]
  },
  {
   "cell_type": "code",
   "execution_count": 42,
   "metadata": {},
   "outputs": [
    {
     "name": "stdout",
     "output_type": "stream",
     "text": [
      "array([ 0, 72, 75, 76, 79, 19, 16, 14, 18])\n",
      "array([[  0,  72,   3],\n",
      "       [  1,  75, -57],\n",
      "       [ -2,  73, -53]])\n",
      "array([[  0,  72,  75],\n",
      "       [  1,   4, -56],\n",
      "       [ -3,  -5,  -1]])\n"
     ]
    }
   ],
   "source": [
    "# Cumiliative sum \n",
    "arr = np.array([[0, 72, 3],\n",
    "                [1, 3, -60],\n",
    "                [-3, -2, 4]])\n",
    "print(repr(np.cumsum(arr)))\n",
    "print(repr(np.cumsum(arr, axis=0)))\n",
    "print(repr(np.cumsum(arr, axis=1)))"
   ]
  },
  {
   "cell_type": "markdown",
   "metadata": {},
   "source": [
    "# 26. Concatenation"
   ]
  },
  {
   "cell_type": "code",
   "execution_count": 43,
   "metadata": {},
   "outputs": [
    {
     "name": "stdout",
     "output_type": "stream",
     "text": [
      "array([[  0,  72,   3],\n",
      "       [  1,   3, -60],\n",
      "       [ -3,  -2,   4],\n",
      "       [-15,   6,   1],\n",
      "       [  8,   9,  -4],\n",
      "       [  5, -21,  18]])\n",
      "array([[  0,  72,   3, -15,   6,   1],\n",
      "       [  1,   3, -60,   8,   9,  -4],\n",
      "       [ -3,  -2,   4,   5, -21,  18]])\n",
      "array([[-15,   6,   1,   0,  72,   3],\n",
      "       [  8,   9,  -4,   1,   3, -60],\n",
      "       [  5, -21,  18,  -3,  -2,   4]])\n"
     ]
    }
   ],
   "source": [
    "arr1 = np.array([[0, 72, 3],\n",
    "                 [1, 3, -60],\n",
    "                 [-3, -2, 4]])\n",
    "arr2 = np.array([[-15, 6, 1],\n",
    "                 [8, 9, -4],\n",
    "                 [5, -21, 18]])\n",
    "print(repr(np.concatenate([arr1, arr2])))\n",
    "print(repr(np.concatenate([arr1, arr2], axis=1)))\n",
    "print(repr(np.concatenate([arr2, arr1], axis=1)))"
   ]
  },
  {
   "cell_type": "markdown",
   "metadata": {},
   "source": [
    "# 27. Saving"
   ]
  },
  {
   "cell_type": "code",
   "execution_count": 45,
   "metadata": {},
   "outputs": [],
   "source": [
    "arr = np.array([1, 2, 3])\n",
    "# Saves to 'arr.npy'\n",
    "np.save('arr.npy', arr)\n",
    "# Also saves to 'arr.npy'\n",
    "np.save('arr', arr)"
   ]
  },
  {
   "cell_type": "markdown",
   "metadata": {},
   "source": [
    "# 26. Loading"
   ]
  },
  {
   "cell_type": "code",
   "execution_count": 46,
   "metadata": {},
   "outputs": [
    {
     "name": "stdout",
     "output_type": "stream",
     "text": [
      "array([1, 2, 3])\n"
     ]
    }
   ],
   "source": [
    "arr = np.array([1, 2, 3])\n",
    "np.save('arr.npy', arr)\n",
    "load_arr = np.load('arr.npy')\n",
    "print(repr(load_arr))\n",
    "\n",
    "# Will result in a FileNotFoundError: If we uncomment line 7 and run again.\n",
    "#load_arr = np.load('arr')"
   ]
  },
  {
   "cell_type": "code",
   "execution_count": null,
   "metadata": {},
   "outputs": [],
   "source": []
  }
 ],
 "metadata": {
  "kernelspec": {
   "display_name": "Python 3.10.0 64-bit",
   "language": "python",
   "name": "python3"
  },
  "language_info": {
   "codemirror_mode": {
    "name": "ipython",
    "version": 3
   },
   "file_extension": ".py",
   "mimetype": "text/x-python",
   "name": "python",
   "nbconvert_exporter": "python",
   "pygments_lexer": "ipython3",
   "version": "3.10.0"
  },
  "orig_nbformat": 4,
  "vscode": {
   "interpreter": {
    "hash": "aee8b7b246df8f9039afb4144a1f6fd8d2ca17a180786b69acc140d282b71a49"
   }
  }
 },
 "nbformat": 4,
 "nbformat_minor": 2
}
